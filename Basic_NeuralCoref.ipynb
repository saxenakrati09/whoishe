{
 "cells": [
  {
   "cell_type": "code",
   "execution_count": 1,
   "metadata": {},
   "outputs": [
    {
     "data": {
      "text/plain": [
       "[My sister: [My sister, She], a dog: [a dog, him]]"
      ]
     },
     "execution_count": 1,
     "metadata": {},
     "output_type": "execute_result"
    }
   ],
   "source": [
    "import en_coref_md\n",
    "\n",
    "nlp = en_coref_md.load()\n",
    "doc = nlp(u'My sister has a dog. She loves him.')\n",
    "\n",
    "doc._.has_coref\n",
    "doc._.coref_clusters"
   ]
  },
  {
   "cell_type": "code",
   "execution_count": 2,
   "metadata": {},
   "outputs": [
    {
     "data": {
      "text/plain": [
       "['Patient_data.txt', 'Basic_NeuralCoref.ipynb', '.env', '.ipynb_checkpoints']"
      ]
     },
     "execution_count": 2,
     "metadata": {},
     "output_type": "execute_result"
    }
   ],
   "source": [
    "import os\n",
    "os.listdir()"
   ]
  },
  {
   "cell_type": "markdown",
   "metadata": {},
   "source": [
    "## Read the text file (cleaned patient data)"
   ]
  },
  {
   "cell_type": "code",
   "execution_count": 3,
   "metadata": {},
   "outputs": [],
   "source": [
    "with open('Patient_data.txt', 'r') as f:\n",
    "    patient = f.readlines()"
   ]
  },
  {
   "cell_type": "code",
   "execution_count": 10,
   "metadata": {},
   "outputs": [
    {
     "name": "stdout",
     "output_type": "stream",
     "text": [
      "Paragraph number... 0\n",
      "True\n",
      "[Crestor: [Crestor, Crestor, Crestor, brand Crestor, Crestor, Crestor, Crestor, Crestor], Patient: [Patient, Patient, Patient, she, she, She, her, Her, She, her, her], Her HCP: [Her HCP, her HCP, HCP], No further information: [No further information, This information], Patient: [Patient, she, she], she is fine with the brand Crestor: [she is fine with the brand Crestor, it]]\n",
      "Call came directly to the IC for medical inquiry and adverse event noted for Crestor. Patient started Crestor 10 mg daily by mouth in 01-2008 for high cholesterol. Patient also taking Toprol XL 50 mg daily by mouth started in 11-2000 for high blood pressure. Patient reported the following that Patient has skipped doses of Crestor over the years since Patient started taking it and the last time was in 12-2017. Patient would just take Patient usual dose the next day and not try to make up the missed dose. Patient HCP is aware, no treatment offered. Had high cholesterol since about 2003 and currently taking CrestorCrestor. Patient is nervous now about taking new medications, unknown start date and if Her HCP Her HCP is aware. Patient to start generic Crestor when finish Patient brand Crestor. No further information was provided. Follow up received on 03-01-2018. Updated on 03-01-2018. The following should have been included in the above narrative. Patient stated that Patient is fine with the brand Crestor, Patient no problems with she is fine with the brand Crestor. No further information was received in the original phone call. Same sender table.\n",
      "\n",
      "Paragraph number... 1\n",
      "True\n",
      "[Nexium Rx: [Nexium Rx, the Nexium Rx], This medication: [This medication, the medication, the medication], The caller: [The caller, she, She, she, She, She, she, She, She]]\n",
      "Call direct to IC with XX and Me related issue removal of product letter. Patient has been prescribed Nexium Rx capsule. Long term use Nexium Rx. Event is she took another medication UNK not specified which did not help. This medication was for a medical condition not specified. The caller was not sure why The caller took This medication. It was possibly for anxiety or depression. The caller noticed This medication did not work after The caller started Nexium Rx. The caller stated Nexium Rx is the only thing that helps. The caller stated that in the past The caller has had a flare up due to stress or due to being on an antibiotic or eating certain foods. The caller declined to provide any additional information for this report. Dates could not be clarified. The caller declined follow up from patient safety and for permission to contact HCP. SJ (TMS).\n",
      "\n",
      "Paragraph number... 2\n",
      "True\n",
      "[a consumer who was no longer on the line: [a consumer who was no longer on the line, The consumer, The consumer, The consumer, The consumer], start date: [start date, her, She, her, her, her], her acid reflux: [her acid reflux, her acid reflux]]\n",
      "XX and Me agent called to report an adverse event on behalf of a consumer who was no longer on the line. a consumer who was no longer on the line began Nexium 40 mg once a day, for acid reflux, start date not reported. a consumer who was no longer on the line reported that start date acid reflux was worse past couple days. start date reported having extreme stress, heart burn and is not eating. a consumer who was no longer on the line further clarified that because of her acid reflux getting worse start date doctor increased start date dose to Nexium 40 mg twice a day starting today. a consumer who was no longer on the line was no longer on the line and was unable to provide additional information.\n",
      "\n",
      "Paragraph number... 3\n",
      "True\n",
      "[Patient: [Patient, she, She, her, Patient], Nexium: [Nexium, Nexium]]\n",
      "Patient advised that Patient had taken Nexium in the past the was switched to the generic and then back to Nexium. Patient advised that the generic doesnt work for Patient. Patient declined to provide any further information.\n",
      "\n",
      "Paragraph number... 4\n",
      "True\n",
      "[XX: [XX, XX], XX and Me: [XX and Me, XX and Me], Text Body: [Text Body, it], Pamela Desjardins Drug:Seroquel XR 400 mg tab: [Pamela Desjardins Drug:Seroquel XR 400 mg tab, she, She, she, she, Her, her, Her, her, Her, her, her, her], Seroquel XR brand: [Seroquel XR brand, it], PS: [PS, PS]]\n",
      "Email correspondence received from XX and Me. Adverse Event was received from XX and Me by email, as they were unable to contact the IC by phone, no attachments are associated with this case. Subject This is a possible AE, PQC, or Medical/Product Inquiry from XXandMe inVentiv. Please treat this as an urgent case. AE received by phone on 21-09-2015. Information that includes the PERD requirements or PQC requirements is provided. Text Body Date:21-09-2015 How was Text Body received:PHONE Time reported:2:50 p.m. Patient information:Pamela Desjardins,XX, , xxx.xx.0246(DIS removed numbers from Social Security number and replaced with xxx for privacy) Event:Pt has missed 2 days of meds Reporter:Pamela Desjardins Drug:Seroquel XR 400 mg tab No other information provided. No permission provided for Patient Safety to recontact Reporter or to contact HCP.JN(TMS) Follow up received on 04-12-2017. Enrolled patient transferred from XX and Me. 2 to 3 years ago Pamela Desjardins Drug:Seroquel XR 400 mg tab did not do well on the generic Seroquel XR, exact date unknown. Pamela Desjardins Drug:Seroquel XR 400 mg tab clarified by stating that while Pamela Desjardins Drug:Seroquel XR 400 mg tab was using the generic for 30 days, Pamela Desjardins Drug:Seroquel XR 400 mg tab did not sleep well and was shaky. Pamela Desjardins Drug:Seroquel XR 400 mg tab HCP was aware and switched Pamela Desjardins Drug:Seroquel XR 400 mg tab back to Seroquel XR brand and those symptoms resolved. Pamela Desjardins Drug:Seroquel XR 400 mg tab pharmacist told Pamela Desjardins Drug:Seroquel XR 400 mg tab Seroquel XR brand may have been due to the fillers. PS granted permission to contact patient. Pamela Desjardins Drug:Seroquel XR 400 mg tab address is as stated above, Pamela Desjardins Drug:Seroquel XR 400 mg tab email is xxx@yahoo.com , and Pamela Desjardins Drug:Seroquel XR 400 mg tab phone number is 480.300.9210. PS also has permission to contact Pamela Desjardins Drug:Seroquel XR 400 mg tab HCP Dr. Michael Mar practicing. No further information provided.\n",
      "\n",
      "Paragraph number... 5\n",
      "True\n",
      "[The patients daughter: [The patients daughter, her], Patient: [Patient, her, her, Her, the patient, her, her], labs drawn: [labs drawn, Her labs], her oncologist: [her oncologist, him, the oncologist]]\n",
      "The patients daughter reports The patients daughter mother has been having \"abdominal burning pains\" since starting the Lynparza. Patient had labs drawn and saw Patient oncologist yesterday and informed her oncologist of Patient symptoms. labs drawn were all okay and her oncologist examined Patient but did not give Patient anything for Patient stomach.\n",
      "\n",
      "Paragraph number... 6\n",
      "True\n",
      "[Patients husband: [Patients husband, she, He, her]]\n",
      "Patients husband reported Patients husband has nausea, vomiting, \"cant eat\" and is unable to sleep. Patients husband reports that patients labs have been okay but Patients husband RBCs are slightly low.\n",
      "\n",
      "Paragraph number... 7\n",
      "True\n",
      "[Symbicort: [Symbicort, Symbicort, Symbicort, Symbicort, Symbicort, Symbicort, Symbicort], her: [her, She], allergic symptom of Symbicort: [allergic symptom of Symbicort, it], Dermatologist: [Dermatologist, She, She, she, her, her, She, her, her], a female patient: [a female patient, The patient], her oropharynx: [her oropharynx, her oropharynx], a doctor: [a doctor, the doctor]]\n",
      "One 25 years old female patient received Symbicort 160 ug bid for asthma via prescription since over one month ago. No other medical history. One week after medication her face appeared rash vesicular(little blisters accompanying with pain). her visited pneumology department, the doctor said allergic symptom of Symbicort was rare, allergic symptom of Symbicort was uncertainly caused by Symbicort. Dermatologist said it might be caused by hormone ingredient of Symbicort. Dermatologist smeared Ganciclovir Gel and then the AE was improved. But rash vesicular would recur when Symbicort was received. Fu on 12-12-2017: This is a follow up spontaneous report concerning a female patient. Concomitant medication was not reported. a female patient received Symbicort for asthma via prescription. Dermatologist visited a doctor for examination on an unspecified date after Dermatologist received Symbicort for a period. The result of tracheoscopy examination showed that there was candida albicans infection in Dermatologist lung and the result of sputum examination showed that there was monilial infection in Dermatologist oropharynx. Dermatologist visited a doctor and a doctor didnt give the treatment. Information concerning new AEs of ’candida albicans infection in Dermatologist lung and ’monilial infection in her oropharynx was added.\n",
      "\n"
     ]
    }
   ],
   "source": [
    "for i in range(len(patient)):\n",
    "    print(\"Paragraph number...\", i)\n",
    "    doc = nlp(patient[i])\n",
    "    print(doc._.has_coref)\n",
    "    print(doc._.coref_clusters)\n",
    "    print(doc._.coref_resolved)"
   ]
  },
  {
   "cell_type": "code",
   "execution_count": 12,
   "metadata": {},
   "outputs": [
    {
     "data": {
      "text/plain": [
       "'Patients husband reported she has nausea, vomiting, \"cant eat\" and is unable to sleep. He reports that patients labs have been okay but her RBCs are slightly low.\\n'"
      ]
     },
     "execution_count": 12,
     "metadata": {},
     "output_type": "execute_result"
    }
   ],
   "source": [
    "patient[6]"
   ]
  },
  {
   "cell_type": "code",
   "execution_count": 20,
   "metadata": {},
   "outputs": [
    {
     "data": {
      "text/plain": [
       "False"
      ]
     },
     "execution_count": 20,
     "metadata": {},
     "output_type": "execute_result"
    }
   ],
   "source": [
    "span = nlp(patient[0])[1:50]\n",
    "span._.is_coref"
   ]
  },
  {
   "cell_type": "code",
   "execution_count": 15,
   "metadata": {},
   "outputs": [],
   "source": [
    "doc = nlp(u'Give it back! He pleaded.')\n",
    "span = doc[1:4]\n",
    "assert [t.text for t in span] ==  [u'it', u'back', u'!']"
   ]
  },
  {
   "cell_type": "code",
   "execution_count": 16,
   "metadata": {},
   "outputs": [
    {
     "data": {
      "text/plain": [
       "it back!"
      ]
     },
     "execution_count": 16,
     "metadata": {},
     "output_type": "execute_result"
    }
   ],
   "source": [
    "span"
   ]
  },
  {
   "cell_type": "code",
   "execution_count": 21,
   "metadata": {},
   "outputs": [],
   "source": [
    "doc = nlp(u'Give it back! He pleaded.')\n",
    "token = doc[0]\n",
    "assert token.text == u'Give'"
   ]
  },
  {
   "cell_type": "code",
   "execution_count": 22,
   "metadata": {},
   "outputs": [
    {
     "data": {
      "text/plain": [
       "Give"
      ]
     },
     "execution_count": 22,
     "metadata": {},
     "output_type": "execute_result"
    }
   ],
   "source": [
    "token"
   ]
  },
  {
   "cell_type": "code",
   "execution_count": 26,
   "metadata": {},
   "outputs": [
    {
     "name": "stdout",
     "output_type": "stream",
     "text": [
      "True\n",
      "[Patients husband: [Patients husband, she, He, her]]\n"
     ]
    }
   ],
   "source": [
    "token = nlp(patient[6])[3]\n",
    "print(token._.in_coref)\n",
    "print(token._.coref_clusters)"
   ]
  },
  {
   "cell_type": "code",
   "execution_count": 24,
   "metadata": {},
   "outputs": [
    {
     "data": {
      "text/plain": [
       "[Patients husband: [Patients husband, she, He, her]]"
      ]
     },
     "execution_count": 24,
     "metadata": {},
     "output_type": "execute_result"
    }
   ],
   "source": []
  },
  {
   "cell_type": "code",
   "execution_count": 31,
   "metadata": {},
   "outputs": [
    {
     "name": "stdout",
     "output_type": "stream",
     "text": [
      "Paragraph number... 0\n",
      "[Crestor: [Crestor, Crestor, Crestor, brand Crestor, Crestor, Crestor, Crestor, Crestor], Patient: [Patient, Patient, Patient, she, she, She, her, Her, She, her, her], Her HCP: [Her HCP, her HCP, HCP], No further information: [No further information, This information], Patient: [Patient, she, she], she is fine with the brand Crestor: [she is fine with the brand Crestor, it]]\n",
      "[Crestor, Crestor, Crestor, brand Crestor, Crestor, Crestor, Crestor, Crestor]\n",
      "Crestor\n",
      "Crestor\n",
      "Paragraph number... 1\n",
      "[Nexium Rx: [Nexium Rx, the Nexium Rx], This medication: [This medication, the medication, the medication], The caller: [The caller, she, She, she, She, She, she, She, She]]\n",
      "[Nexium Rx, the Nexium Rx]\n",
      "the Nexium Rx\n",
      "Nexium Rx\n",
      "Paragraph number... 2\n",
      "[a consumer who was no longer on the line: [a consumer who was no longer on the line, The consumer, The consumer, The consumer, The consumer], start date: [start date, her, She, her, her, her], her acid reflux: [her acid reflux, her acid reflux]]\n",
      "[a consumer who was no longer on the line, The consumer, The consumer, The consumer, The consumer]\n",
      "The consumer\n",
      "a consumer who was no longer on the line\n",
      "Paragraph number... 3\n",
      "[Patient: [Patient, she, She, her, Patient], Nexium: [Nexium, Nexium]]\n",
      "[Patient, she, She, her, Patient]\n",
      "Patient\n",
      "Patient\n",
      "Paragraph number... 4\n",
      "[XX: [XX, XX], XX and Me: [XX and Me, XX and Me], Text Body: [Text Body, it], Pamela Desjardins Drug:Seroquel XR 400 mg tab: [Pamela Desjardins Drug:Seroquel XR 400 mg tab, she, She, she, she, Her, her, Her, her, Her, her, her, her], Seroquel XR brand: [Seroquel XR brand, it], PS: [PS, PS]]\n",
      "[XX, XX]\n",
      "XX\n",
      "XX\n",
      "Paragraph number... 5\n",
      "[The patients daughter: [The patients daughter, her], Patient: [Patient, her, her, Her, the patient, her, her], labs drawn: [labs drawn, Her labs], her oncologist: [her oncologist, him, the oncologist]]\n",
      "[The patients daughter, her]\n",
      "her\n",
      "The patients daughter\n",
      "Paragraph number... 6\n",
      "[Patients husband: [Patients husband, she, He, her]]\n",
      "[Patients husband, she, He, her]\n",
      "her\n",
      "Patients husband\n",
      "Paragraph number... 7\n",
      "[Symbicort: [Symbicort, Symbicort, Symbicort, Symbicort, Symbicort, Symbicort, Symbicort], her: [her, She], allergic symptom of Symbicort: [allergic symptom of Symbicort, it], Dermatologist: [Dermatologist, She, She, she, her, her, She, her, her], a female patient: [a female patient, The patient], her oropharynx: [her oropharynx, her oropharynx], a doctor: [a doctor, the doctor]]\n",
      "[Symbicort, Symbicort, Symbicort, Symbicort, Symbicort, Symbicort, Symbicort]\n",
      "Symbicort\n",
      "Symbicort\n"
     ]
    }
   ],
   "source": [
    "for i in range(len(patient)):\n",
    "    print(\"Paragraph number...\", i)\n",
    "    doc = nlp(patient[i])\n",
    "    #print(doc._.has_coref)\n",
    "    print(doc._.coref_clusters)\n",
    "    print(doc._.coref_clusters[0].mentions)\n",
    "    print(doc._.coref_clusters[0].mentions[-1])\n",
    "    print(doc._.coref_clusters[0].mentions[-1]._.coref_cluster.main)"
   ]
  },
  {
   "cell_type": "code",
   "execution_count": 34,
   "metadata": {},
   "outputs": [
    {
     "name": "stdout",
     "output_type": "stream",
     "text": [
      "False\n",
      "[]\n",
      "False\n"
     ]
    },
    {
     "ename": "AttributeError",
     "evalue": "'NoneType' object has no attribute 'main'",
     "output_type": "error",
     "traceback": [
      "\u001b[0;31m---------------------------------------------------------------------------\u001b[0m",
      "\u001b[0;31mAttributeError\u001b[0m                            Traceback (most recent call last)",
      "\u001b[0;32m<ipython-input-34-3ae5d7bb28c1>\u001b[0m in \u001b[0;36m<module>\u001b[0;34m\u001b[0m\n\u001b[1;32m      6\u001b[0m \u001b[0mspan\u001b[0m \u001b[0;34m=\u001b[0m \u001b[0mdoc\u001b[0m\u001b[0;34m[\u001b[0m\u001b[0;34m-\u001b[0m\u001b[0;36m1\u001b[0m\u001b[0;34m:\u001b[0m\u001b[0;34m]\u001b[0m\u001b[0;34m\u001b[0m\u001b[0m\n\u001b[1;32m      7\u001b[0m \u001b[0mprint\u001b[0m\u001b[0;34m(\u001b[0m\u001b[0mspan\u001b[0m\u001b[0;34m.\u001b[0m\u001b[0m_\u001b[0m\u001b[0;34m.\u001b[0m\u001b[0mis_coref\u001b[0m\u001b[0;34m)\u001b[0m\u001b[0;34m\u001b[0m\u001b[0m\n\u001b[0;32m----> 8\u001b[0;31m \u001b[0mprint\u001b[0m\u001b[0;34m(\u001b[0m\u001b[0mspan\u001b[0m\u001b[0;34m.\u001b[0m\u001b[0m_\u001b[0m\u001b[0;34m.\u001b[0m\u001b[0mcoref_cluster\u001b[0m\u001b[0;34m.\u001b[0m\u001b[0mmain\u001b[0m\u001b[0;34m)\u001b[0m\u001b[0;34m\u001b[0m\u001b[0m\n\u001b[0m\u001b[1;32m      9\u001b[0m \u001b[0mprint\u001b[0m\u001b[0;34m(\u001b[0m\u001b[0mspan\u001b[0m\u001b[0;34m.\u001b[0m\u001b[0m_\u001b[0m\u001b[0;34m.\u001b[0m\u001b[0mcoref_cluster\u001b[0m\u001b[0;34m.\u001b[0m\u001b[0mmain\u001b[0m\u001b[0;34m.\u001b[0m\u001b[0m_\u001b[0m\u001b[0;34m.\u001b[0m\u001b[0mcoref_cluster\u001b[0m\u001b[0;34m)\u001b[0m\u001b[0;34m\u001b[0m\u001b[0m\n",
      "\u001b[0;31mAttributeError\u001b[0m: 'NoneType' object has no attribute 'main'"
     ]
    }
   ],
   "source": [
    "doc = nlp(patient[0])\n",
    "token = doc[-1]\n",
    "print(token._.in_coref)\n",
    "print(token._.coref_clusters)\n",
    "\n",
    "span = doc[-1:]\n",
    "print(span._.is_coref)\n",
    "print(span._.coref_cluster.main)\n",
    "print(span._.coref_cluster.main._.coref_cluster)"
   ]
  },
  {
   "cell_type": "code",
   "execution_count": null,
   "metadata": {},
   "outputs": [],
   "source": []
  }
 ],
 "metadata": {
  "kernelspec": {
   "display_name": "Python 3",
   "language": "python",
   "name": "python3"
  },
  "language_info": {
   "codemirror_mode": {
    "name": "ipython",
    "version": 3
   },
   "file_extension": ".py",
   "mimetype": "text/x-python",
   "name": "python",
   "nbconvert_exporter": "python",
   "pygments_lexer": "ipython3",
   "version": "3.6.4"
  }
 },
 "nbformat": 4,
 "nbformat_minor": 2
}
